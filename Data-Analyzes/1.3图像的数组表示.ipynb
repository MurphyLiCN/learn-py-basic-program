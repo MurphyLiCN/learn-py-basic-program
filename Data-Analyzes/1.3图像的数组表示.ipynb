{
 "cells": [
  {
   "cell_type": "markdown",
   "source": [
    "## PIL库"
   ],
   "metadata": {
    "collapsed": false,
    "pycharm": {
     "name": "#%% md\n"
    }
   }
  },
  {
   "cell_type": "code",
   "execution_count": 9,
   "metadata": {
    "collapsed": true,
    "pycharm": {
     "name": "#%%\n"
    }
   },
   "outputs": [],
   "source": [
    "from PIL import Image\n",
    "import numpy as np\n"
   ]
  },
  {
   "cell_type": "code",
   "execution_count": 15,
   "outputs": [],
   "source": [
    "a = np.array(Image.open('/Users/murphy/Documents/GitHub/learn-py-basic-program/Data-Analyzes/Data/fcity.jpg'))\n"
   ],
   "metadata": {
    "collapsed": false,
    "pycharm": {
     "name": "#%%\n"
    }
   }
  },
  {
   "cell_type": "code",
   "execution_count": 16,
   "outputs": [
    {
     "name": "stdout",
     "output_type": "stream",
     "text": [
      "(441, 634) uint8\n"
     ]
    }
   ],
   "source": [
    "print(a.shape,a.dtype)\n"
   ],
   "metadata": {
    "collapsed": false,
    "pycharm": {
     "name": "#%%\n"
    }
   }
  },
  {
   "cell_type": "code",
   "execution_count": 12,
   "outputs": [],
   "source": [
    "b = [255,255,255] - a\n",
    "im = Image.fromarray(b.astype('uint8'))\n",
    "im.save('/Users/murphy/Documents/GitHub/learn-py-basic-program/Data-Analyzes/Data/fcity2.jpg')"
   ],
   "metadata": {
    "collapsed": false,
    "pycharm": {
     "name": "#%%\n"
    }
   }
  },
  {
   "cell_type": "code",
   "execution_count": 17,
   "outputs": [],
   "source": [
    "a = np.array(Image.open('/Users/murphy/Documents/GitHub/learn-py-basic-program/Data-Analyzes/Data/fcity.jpg').convert('L'))\n",
    "b = 255-a\n",
    "im = Image.fromarray(b.astype('uint8'))\n",
    "im.save('/Users/murphy/Documents/GitHub/learn-py-basic-program/Data-Analyzes/Data/fcity3.jpg')"
   ],
   "metadata": {
    "collapsed": false,
    "pycharm": {
     "name": "#%%\n"
    }
   }
  },
  {
   "cell_type": "code",
   "execution_count": 18,
   "outputs": [],
   "source": [
    "a = np.array(Image.open('/Users/murphy/Documents/GitHub/learn-py-basic-program/Data-Analyzes/Data/fcity.jpg').convert('L'))\n",
    "b = 255*(a/255)**2\n",
    "im = Image.fromarray(b.astype('uint8'))\n",
    "im.save('/Users/murphy/Documents/GitHub/learn-py-basic-program/Data-Analyzes/Data/fcity4.jpg')"
   ],
   "metadata": {
    "collapsed": false,
    "pycharm": {
     "name": "#%%\n"
    }
   }
  },
  {
   "cell_type": "markdown",
   "source": [
    "### 手绘效果"
   ],
   "metadata": {
    "collapsed": false,
    "pycharm": {
     "name": "#%% md\n"
    }
   }
  },
  {
   "cell_type": "code",
   "execution_count": 20,
   "outputs": [],
   "source": [
    "a = np.array(Image.open('/Users/murphy/Documents/GitHub/learn-py-basic-program/Data-Analyzes/Data/beijing.jpg').convert('L')).astype('float')\n",
    "depth = 10. \t\t\t\t\t\t# (0-100)\n",
    "grad = np.gradient(a)\t\t\t\t#取图像灰度的梯度值\n",
    "grad_x, grad_y = grad \t\t\t\t#分别取横纵图像梯度值\n",
    "grad_x = grad_x*depth/100\n",
    "grad_y = grad_y*depth/100\n",
    "A = np.sqrt(grad_x**2 + grad_y**2 + 1)\n",
    "uni_x = grad_x/A\n",
    "uni_y = grad_y/A\n",
    "uni_z = 1.0/A\n",
    "\n",
    "vec_el = np.pi/2.2 \t\t\t\t\t# 光源的俯视角度，弧度值\n",
    "vec_az = np.pi/4. \t\t\t\t\t# 光源的方位角度，弧度值\n",
    "dx = np.cos(vec_el)*np.cos(vec_az) \t#光源对x 轴的影响\n",
    "dy = np.cos(vec_el)*np.sin(vec_az) \t#光源对y 轴的影响\n",
    "dz = np.sin(vec_el) \t\t\t\t#光源对z 轴的影响\n",
    "\n",
    "b = 255*(dx*uni_x + dy*uni_y + dz*uni_z) \t#光源归一化\n",
    "b = b.clip(0,255)\n",
    "\n",
    "im = Image.fromarray(b.astype('uint8')) \t#重构图像\n",
    "im.save('/Users/murphy/Documents/GitHub/learn-py-basic-program/Data-Analyzes/Data/beijingHD.jpg')"
   ],
   "metadata": {
    "collapsed": false,
    "pycharm": {
     "name": "#%%\n"
    }
   }
  },
  {
   "cell_type": "code",
   "execution_count": null,
   "outputs": [],
   "source": [],
   "metadata": {
    "collapsed": false,
    "pycharm": {
     "name": "#%%\n"
    }
   }
  }
 ],
 "metadata": {
  "kernelspec": {
   "display_name": "Python 3",
   "language": "python",
   "name": "python3"
  },
  "language_info": {
   "codemirror_mode": {
    "name": "ipython",
    "version": 2
   },
   "file_extension": ".py",
   "mimetype": "text/x-python",
   "name": "python",
   "nbconvert_exporter": "python",
   "pygments_lexer": "ipython2",
   "version": "2.7.6"
  }
 },
 "nbformat": 4,
 "nbformat_minor": 0
}